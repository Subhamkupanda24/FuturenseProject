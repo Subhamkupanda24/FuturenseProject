{
 "cells": [
  {
   "cell_type": "code",
   "execution_count": 1,
   "metadata": {
    "id": "9WAYjfHfIGCd"
   },
   "outputs": [],
   "source": [
    "from kafka import KafkaConsumer\n",
    "from kafka.errors import KafkaError, KafkaTimeoutError\n",
    "import atexit\n",
    "import logging\n",
    "import json\n",
    "from pymongo import MongoClient"
   ]
  },
  {
   "cell_type": "code",
   "execution_count": 2,
   "metadata": {
    "id": "IoDEwgTZIpVi"
   },
   "outputs": [],
   "source": [
    "logger_format = '%(asctime)-15s %(message)s'\n",
    "logging.basicConfig(format=logger_format)\n",
    "logger = logging.getLogger('test')\n",
    "logger.setLevel(logging.DEBUG)"
   ]
  },
  {
   "cell_type": "code",
   "execution_count": 3,
   "metadata": {},
   "outputs": [],
   "source": [
    "topic_name = 'stockTopic'\n",
    "kafka_broker = '127.0.0.1:9092'\n",
    "mongo_client='localhost:27017'\n",
    "db_name='stock_test'\n",
    "collection_name='stock_price_test'\n",
    "client = MongoClient(mongo_client)\n",
    "db = client[db_name]\n",
    "collection = db[collection_name]\n",
    "# collection.create_index('StockSymbol', name=\"stock_symbol_index\")"
   ]
  },
  {
   "cell_type": "code",
   "execution_count": 4,
   "metadata": {
    "id": "_mcBOwvVRDZm"
   },
   "outputs": [],
   "source": [
    "def dump_data(stock_data):\n",
    "  '''\n",
    "  function to store data in MongoDB from Kafka\n",
    "  :param data: stock data json\n",
    "  :param collection: mongo collection session\n",
    "  :return: None\n",
    "  '''\n",
    "\n",
    "  try:\n",
    "    logger.info(f'Dumping data in MongoDB {json.dumps(stock_data)}')\n",
    "    collection.insert_one(stock_data)\n",
    "    logger.info(f'Data dumped in MongoDB {json.dumps(stock_data)}')\n",
    "  except KafkaError as ke:\n",
    "    logger.warning(f'Kafka Error {ke}')\n",
    "  except Exception as e:\n",
    "    logger.warning(f'Failed to dump data {stock_data} due to {e}')"
   ]
  },
  {
   "cell_type": "code",
   "execution_count": 5,
   "metadata": {
    "id": "A0JH7wDYRJlZ"
   },
   "outputs": [],
   "source": [
    "def on_shutdown(consumer,mongo_session):\n",
    "  '''\n",
    "  shutdown hook to be called before the shutdown\n",
    "  :param consumer: instance of a kafka consumer\n",
    "  :return: None\n",
    "  '''\n",
    "  try:\n",
    "    logger.info('Closing Kafka Consumer')\n",
    "    consumer.close()\n",
    "    logger.info('Kafka Consumer Close')\n",
    "  except KafkaError as ke:\n",
    "    logger.warning(f'Failed to close Kafka Consumer, due to {ke}')\n",
    "  finally:\n",
    "      logger.info(\"Consumer Session closed\")"
   ]
  },
  {
   "cell_type": "code",
   "execution_count": 6,
   "metadata": {},
   "outputs": [],
   "source": [
    "def createCollectionMongo():\n",
    "    '''\n",
    "    function to create mongo session which will be used to write data\n",
    "    to mongo client\n",
    "    :return: none\n",
    "    '''\n",
    "    client = MongoClient(mongo_client)\n",
    "    db = client[db_name]\n",
    "    collection = client[collection_name]\n",
    "    collection.create_index('StockSymbol', name=\"stock_symbol_index\")\n",
    "    return collection"
   ]
  },
  {
   "cell_type": "code",
   "execution_count": 7,
   "metadata": {
    "id": "kD3l94i5UAYV"
   },
   "outputs": [
    {
     "name": "stderr",
     "output_type": "stream",
     "text": [
      "2021-11-26 22:31:16,850 group_id is None: disabling auto-commit.\n",
      "2021-11-26 22:31:26,634 Dumping data in MongoDB {\"StockSymbol\": \"GC=F\", \"Price\": 1861.3, \"Time\": \"2021-11-26T22:31:26Z\", \"_id\": \"GC=F_2021-11-26T22:31:26Z\"}\n",
      "2021-11-26 22:31:26,639 Data dumped in MongoDB {\"StockSymbol\": \"GC=F\", \"Price\": 1861.3, \"Time\": \"2021-11-26T22:31:26Z\", \"_id\": \"GC=F_2021-11-26T22:31:26Z\"}\n",
      "2021-11-26 22:31:39,096 Dumping data in MongoDB {\"StockSymbol\": \"GC=F\", \"Price\": 1861.3, \"Time\": \"2021-11-26T22:31:39Z\", \"_id\": \"GC=F_2021-11-26T22:31:39Z\"}\n",
      "2021-11-26 22:31:39,097 Data dumped in MongoDB {\"StockSymbol\": \"GC=F\", \"Price\": 1861.3, \"Time\": \"2021-11-26T22:31:39Z\", \"_id\": \"GC=F_2021-11-26T22:31:39Z\"}\n",
      "2021-11-26 22:31:51,597 Dumping data in MongoDB {\"StockSymbol\": \"GC=F\", \"Price\": 1861.3, \"Time\": \"2021-11-26T22:31:51Z\", \"_id\": \"GC=F_2021-11-26T22:31:51Z\"}\n",
      "2021-11-26 22:31:51,598 Data dumped in MongoDB {\"StockSymbol\": \"GC=F\", \"Price\": 1861.3, \"Time\": \"2021-11-26T22:31:51Z\", \"_id\": \"GC=F_2021-11-26T22:31:51Z\"}\n",
      "2021-11-26 22:32:03,938 Dumping data in MongoDB {\"StockSymbol\": \"GC=F\", \"Price\": 1861.3, \"Time\": \"2021-11-26T22:32:03Z\", \"_id\": \"GC=F_2021-11-26T22:32:03Z\"}\n",
      "2021-11-26 22:32:03,940 Data dumped in MongoDB {\"StockSymbol\": \"GC=F\", \"Price\": 1861.3, \"Time\": \"2021-11-26T22:32:03Z\", \"_id\": \"GC=F_2021-11-26T22:32:03Z\"}\n",
      "2021-11-26 22:32:18,917 Dumping data in MongoDB {\"StockSymbol\": \"GC=F\", \"Price\": 1861.3, \"Time\": \"2021-11-26T22:32:18Z\", \"_id\": \"GC=F_2021-11-26T22:32:18Z\"}\n",
      "2021-11-26 22:32:18,918 Data dumped in MongoDB {\"StockSymbol\": \"GC=F\", \"Price\": 1861.3, \"Time\": \"2021-11-26T22:32:18Z\", \"_id\": \"GC=F_2021-11-26T22:32:18Z\"}\n",
      "2021-11-26 22:32:33,945 Dumping data in MongoDB {\"StockSymbol\": \"GC=F\", \"Price\": 1784.2, \"Time\": \"2021-11-26T22:32:33Z\", \"_id\": \"GC=F_2021-11-26T22:32:33Z\"}\n",
      "2021-11-26 22:32:33,947 Data dumped in MongoDB {\"StockSymbol\": \"GC=F\", \"Price\": 1784.2, \"Time\": \"2021-11-26T22:32:33Z\", \"_id\": \"GC=F_2021-11-26T22:32:33Z\"}\n",
      "2021-11-26 22:32:46,248 Dumping data in MongoDB {\"StockSymbol\": \"GC=F\", \"Price\": 1784.2, \"Time\": \"2021-11-26T22:32:46Z\", \"_id\": \"GC=F_2021-11-26T22:32:46Z\"}\n",
      "2021-11-26 22:32:46,249 Data dumped in MongoDB {\"StockSymbol\": \"GC=F\", \"Price\": 1784.2, \"Time\": \"2021-11-26T22:32:46Z\", \"_id\": \"GC=F_2021-11-26T22:32:46Z\"}\n",
      "2021-11-26 22:33:00,636 Dumping data in MongoDB {\"StockSymbol\": \"GC=F\", \"Price\": 1784.2, \"Time\": \"2021-11-26T22:33:00Z\", \"_id\": \"GC=F_2021-11-26T22:33:00Z\"}\n",
      "2021-11-26 22:33:00,638 Data dumped in MongoDB {\"StockSymbol\": \"GC=F\", \"Price\": 1784.2, \"Time\": \"2021-11-26T22:33:00Z\", \"_id\": \"GC=F_2021-11-26T22:33:00Z\"}\n",
      "2021-11-26 22:33:17,157 Dumping data in MongoDB {\"StockSymbol\": \"GC=F\", \"Price\": 1861.3, \"Time\": \"2021-11-26T22:33:17Z\", \"_id\": \"GC=F_2021-11-26T22:33:17Z\"}\n",
      "2021-11-26 22:33:17,159 Data dumped in MongoDB {\"StockSymbol\": \"GC=F\", \"Price\": 1861.3, \"Time\": \"2021-11-26T22:33:17Z\", \"_id\": \"GC=F_2021-11-26T22:33:17Z\"}\n",
      "2021-11-26 22:33:31,577 Dumping data in MongoDB {\"StockSymbol\": \"GC=F\", \"Price\": 1784.2, \"Time\": \"2021-11-26T22:33:31Z\", \"_id\": \"GC=F_2021-11-26T22:33:31Z\"}\n",
      "2021-11-26 22:33:31,579 Data dumped in MongoDB {\"StockSymbol\": \"GC=F\", \"Price\": 1784.2, \"Time\": \"2021-11-26T22:33:31Z\", \"_id\": \"GC=F_2021-11-26T22:33:31Z\"}\n",
      "2021-11-26 22:33:43,471 Dumping data in MongoDB {\"StockSymbol\": \"GC=F\", \"Price\": 1784.2, \"Time\": \"2021-11-26T22:33:43Z\", \"_id\": \"GC=F_2021-11-26T22:33:43Z\"}\n",
      "2021-11-26 22:33:43,473 Data dumped in MongoDB {\"StockSymbol\": \"GC=F\", \"Price\": 1784.2, \"Time\": \"2021-11-26T22:33:43Z\", \"_id\": \"GC=F_2021-11-26T22:33:43Z\"}\n",
      "2021-11-26 22:33:57,363 Dumping data in MongoDB {\"StockSymbol\": \"GC=F\", \"Price\": 1784.2, \"Time\": \"2021-11-26T22:33:57Z\", \"_id\": \"GC=F_2021-11-26T22:33:57Z\"}\n",
      "2021-11-26 22:33:57,365 Data dumped in MongoDB {\"StockSymbol\": \"GC=F\", \"Price\": 1784.2, \"Time\": \"2021-11-26T22:33:57Z\", \"_id\": \"GC=F_2021-11-26T22:33:57Z\"}\n",
      "2021-11-26 22:34:09,217 Dumping data in MongoDB {\"StockSymbol\": \"GC=F\", \"Price\": 1861.3, \"Time\": \"2021-11-26T22:34:09Z\", \"_id\": \"GC=F_2021-11-26T22:34:09Z\"}\n",
      "2021-11-26 22:34:09,219 Data dumped in MongoDB {\"StockSymbol\": \"GC=F\", \"Price\": 1861.3, \"Time\": \"2021-11-26T22:34:09Z\", \"_id\": \"GC=F_2021-11-26T22:34:09Z\"}\n",
      "2021-11-26 22:34:23,858 Dumping data in MongoDB {\"StockSymbol\": \"GC=F\", \"Price\": 1861.3, \"Time\": \"2021-11-26T22:34:23Z\", \"_id\": \"GC=F_2021-11-26T22:34:23Z\"}\n",
      "2021-11-26 22:34:23,860 Data dumped in MongoDB {\"StockSymbol\": \"GC=F\", \"Price\": 1861.3, \"Time\": \"2021-11-26T22:34:23Z\", \"_id\": \"GC=F_2021-11-26T22:34:23Z\"}\n",
      "2021-11-26 22:34:43,167 Dumping data in MongoDB {\"StockSymbol\": \"GC=F\", \"Price\": 1861.3, \"Time\": \"2021-11-26T22:34:43Z\", \"_id\": \"GC=F_2021-11-26T22:34:43Z\"}\n",
      "2021-11-26 22:34:43,168 Data dumped in MongoDB {\"StockSymbol\": \"GC=F\", \"Price\": 1861.3, \"Time\": \"2021-11-26T22:34:43Z\", \"_id\": \"GC=F_2021-11-26T22:34:43Z\"}\n"
     ]
    },
    {
     "ename": "KeyboardInterrupt",
     "evalue": "",
     "output_type": "error",
     "traceback": [
      "\u001b[1;31m---------------------------------------------------------------------------\u001b[0m",
      "\u001b[1;31mKeyboardInterrupt\u001b[0m                         Traceback (most recent call last)",
      "\u001b[1;32m<ipython-input-7-7e5e3f8d1333>\u001b[0m in \u001b[0;36m<module>\u001b[1;34m\u001b[0m\n\u001b[0;32m      9\u001b[0m \u001b[1;33m\u001b[0m\u001b[0m\n\u001b[0;32m     10\u001b[0m     \u001b[0matexit\u001b[0m\u001b[1;33m.\u001b[0m\u001b[0mregister\u001b[0m\u001b[1;33m(\u001b[0m\u001b[0mon_shutdown\u001b[0m\u001b[1;33m,\u001b[0m\u001b[0mconsumer\u001b[0m\u001b[1;33m)\u001b[0m\u001b[1;33m\u001b[0m\u001b[1;33m\u001b[0m\u001b[0m\n\u001b[1;32m---> 11\u001b[1;33m     \u001b[1;32mfor\u001b[0m \u001b[0mmsg\u001b[0m \u001b[1;32min\u001b[0m \u001b[0mconsumer\u001b[0m\u001b[1;33m:\u001b[0m\u001b[1;33m\u001b[0m\u001b[1;33m\u001b[0m\u001b[0m\n\u001b[0m\u001b[0;32m     12\u001b[0m         \u001b[0mdata\u001b[0m\u001b[1;33m=\u001b[0m\u001b[0mmsg\u001b[0m\u001b[1;33m.\u001b[0m\u001b[0mvalue\u001b[0m\u001b[1;33m\u001b[0m\u001b[1;33m\u001b[0m\u001b[0m\n\u001b[0;32m     13\u001b[0m         \u001b[0mdata\u001b[0m\u001b[1;33m[\u001b[0m\u001b[1;34m'_id'\u001b[0m\u001b[1;33m]\u001b[0m\u001b[1;33m=\u001b[0m\u001b[1;34mf\"{data['StockSymbol']}_{data['Time']}\"\u001b[0m\u001b[1;33m\u001b[0m\u001b[1;33m\u001b[0m\u001b[0m\n",
      "\u001b[1;32m~\\anaconda3\\lib\\site-packages\\kafka\\consumer\\group.py\u001b[0m in \u001b[0;36m__next__\u001b[1;34m(self)\u001b[0m\n\u001b[0;32m   1191\u001b[0m             \u001b[1;32mreturn\u001b[0m \u001b[0mself\u001b[0m\u001b[1;33m.\u001b[0m\u001b[0mnext_v1\u001b[0m\u001b[1;33m(\u001b[0m\u001b[1;33m)\u001b[0m\u001b[1;33m\u001b[0m\u001b[1;33m\u001b[0m\u001b[0m\n\u001b[0;32m   1192\u001b[0m         \u001b[1;32melse\u001b[0m\u001b[1;33m:\u001b[0m\u001b[1;33m\u001b[0m\u001b[1;33m\u001b[0m\u001b[0m\n\u001b[1;32m-> 1193\u001b[1;33m             \u001b[1;32mreturn\u001b[0m \u001b[0mself\u001b[0m\u001b[1;33m.\u001b[0m\u001b[0mnext_v2\u001b[0m\u001b[1;33m(\u001b[0m\u001b[1;33m)\u001b[0m\u001b[1;33m\u001b[0m\u001b[1;33m\u001b[0m\u001b[0m\n\u001b[0m\u001b[0;32m   1194\u001b[0m \u001b[1;33m\u001b[0m\u001b[0m\n\u001b[0;32m   1195\u001b[0m     \u001b[1;32mdef\u001b[0m \u001b[0mnext_v2\u001b[0m\u001b[1;33m(\u001b[0m\u001b[0mself\u001b[0m\u001b[1;33m)\u001b[0m\u001b[1;33m:\u001b[0m\u001b[1;33m\u001b[0m\u001b[1;33m\u001b[0m\u001b[0m\n",
      "\u001b[1;32m~\\anaconda3\\lib\\site-packages\\kafka\\consumer\\group.py\u001b[0m in \u001b[0;36mnext_v2\u001b[1;34m(self)\u001b[0m\n\u001b[0;32m   1199\u001b[0m                 \u001b[0mself\u001b[0m\u001b[1;33m.\u001b[0m\u001b[0m_iterator\u001b[0m \u001b[1;33m=\u001b[0m \u001b[0mself\u001b[0m\u001b[1;33m.\u001b[0m\u001b[0m_message_generator_v2\u001b[0m\u001b[1;33m(\u001b[0m\u001b[1;33m)\u001b[0m\u001b[1;33m\u001b[0m\u001b[1;33m\u001b[0m\u001b[0m\n\u001b[0;32m   1200\u001b[0m             \u001b[1;32mtry\u001b[0m\u001b[1;33m:\u001b[0m\u001b[1;33m\u001b[0m\u001b[1;33m\u001b[0m\u001b[0m\n\u001b[1;32m-> 1201\u001b[1;33m                 \u001b[1;32mreturn\u001b[0m \u001b[0mnext\u001b[0m\u001b[1;33m(\u001b[0m\u001b[0mself\u001b[0m\u001b[1;33m.\u001b[0m\u001b[0m_iterator\u001b[0m\u001b[1;33m)\u001b[0m\u001b[1;33m\u001b[0m\u001b[1;33m\u001b[0m\u001b[0m\n\u001b[0m\u001b[0;32m   1202\u001b[0m             \u001b[1;32mexcept\u001b[0m \u001b[0mStopIteration\u001b[0m\u001b[1;33m:\u001b[0m\u001b[1;33m\u001b[0m\u001b[1;33m\u001b[0m\u001b[0m\n\u001b[0;32m   1203\u001b[0m                 \u001b[0mself\u001b[0m\u001b[1;33m.\u001b[0m\u001b[0m_iterator\u001b[0m \u001b[1;33m=\u001b[0m \u001b[1;32mNone\u001b[0m\u001b[1;33m\u001b[0m\u001b[1;33m\u001b[0m\u001b[0m\n",
      "\u001b[1;32m~\\anaconda3\\lib\\site-packages\\kafka\\consumer\\group.py\u001b[0m in \u001b[0;36m_message_generator_v2\u001b[1;34m(self)\u001b[0m\n\u001b[0;32m   1114\u001b[0m     \u001b[1;32mdef\u001b[0m \u001b[0m_message_generator_v2\u001b[0m\u001b[1;33m(\u001b[0m\u001b[0mself\u001b[0m\u001b[1;33m)\u001b[0m\u001b[1;33m:\u001b[0m\u001b[1;33m\u001b[0m\u001b[1;33m\u001b[0m\u001b[0m\n\u001b[0;32m   1115\u001b[0m         \u001b[0mtimeout_ms\u001b[0m \u001b[1;33m=\u001b[0m \u001b[1;36m1000\u001b[0m \u001b[1;33m*\u001b[0m \u001b[1;33m(\u001b[0m\u001b[0mself\u001b[0m\u001b[1;33m.\u001b[0m\u001b[0m_consumer_timeout\u001b[0m \u001b[1;33m-\u001b[0m \u001b[0mtime\u001b[0m\u001b[1;33m.\u001b[0m\u001b[0mtime\u001b[0m\u001b[1;33m(\u001b[0m\u001b[1;33m)\u001b[0m\u001b[1;33m)\u001b[0m\u001b[1;33m\u001b[0m\u001b[1;33m\u001b[0m\u001b[0m\n\u001b[1;32m-> 1116\u001b[1;33m         \u001b[0mrecord_map\u001b[0m \u001b[1;33m=\u001b[0m \u001b[0mself\u001b[0m\u001b[1;33m.\u001b[0m\u001b[0mpoll\u001b[0m\u001b[1;33m(\u001b[0m\u001b[0mtimeout_ms\u001b[0m\u001b[1;33m=\u001b[0m\u001b[0mtimeout_ms\u001b[0m\u001b[1;33m,\u001b[0m \u001b[0mupdate_offsets\u001b[0m\u001b[1;33m=\u001b[0m\u001b[1;32mFalse\u001b[0m\u001b[1;33m)\u001b[0m\u001b[1;33m\u001b[0m\u001b[1;33m\u001b[0m\u001b[0m\n\u001b[0m\u001b[0;32m   1117\u001b[0m         \u001b[1;32mfor\u001b[0m \u001b[0mtp\u001b[0m\u001b[1;33m,\u001b[0m \u001b[0mrecords\u001b[0m \u001b[1;32min\u001b[0m \u001b[0msix\u001b[0m\u001b[1;33m.\u001b[0m\u001b[0miteritems\u001b[0m\u001b[1;33m(\u001b[0m\u001b[0mrecord_map\u001b[0m\u001b[1;33m)\u001b[0m\u001b[1;33m:\u001b[0m\u001b[1;33m\u001b[0m\u001b[1;33m\u001b[0m\u001b[0m\n\u001b[0;32m   1118\u001b[0m             \u001b[1;31m# Generators are stateful, and it is possible that the tp / records\u001b[0m\u001b[1;33m\u001b[0m\u001b[1;33m\u001b[0m\u001b[1;33m\u001b[0m\u001b[0m\n",
      "\u001b[1;32m~\\anaconda3\\lib\\site-packages\\kafka\\consumer\\group.py\u001b[0m in \u001b[0;36mpoll\u001b[1;34m(self, timeout_ms, max_records, update_offsets)\u001b[0m\n\u001b[0;32m    653\u001b[0m         \u001b[0mremaining\u001b[0m \u001b[1;33m=\u001b[0m \u001b[0mtimeout_ms\u001b[0m\u001b[1;33m\u001b[0m\u001b[1;33m\u001b[0m\u001b[0m\n\u001b[0;32m    654\u001b[0m         \u001b[1;32mwhile\u001b[0m \u001b[1;32mTrue\u001b[0m\u001b[1;33m:\u001b[0m\u001b[1;33m\u001b[0m\u001b[1;33m\u001b[0m\u001b[0m\n\u001b[1;32m--> 655\u001b[1;33m             \u001b[0mrecords\u001b[0m \u001b[1;33m=\u001b[0m \u001b[0mself\u001b[0m\u001b[1;33m.\u001b[0m\u001b[0m_poll_once\u001b[0m\u001b[1;33m(\u001b[0m\u001b[0mremaining\u001b[0m\u001b[1;33m,\u001b[0m \u001b[0mmax_records\u001b[0m\u001b[1;33m,\u001b[0m \u001b[0mupdate_offsets\u001b[0m\u001b[1;33m=\u001b[0m\u001b[0mupdate_offsets\u001b[0m\u001b[1;33m)\u001b[0m\u001b[1;33m\u001b[0m\u001b[1;33m\u001b[0m\u001b[0m\n\u001b[0m\u001b[0;32m    656\u001b[0m             \u001b[1;32mif\u001b[0m \u001b[0mrecords\u001b[0m\u001b[1;33m:\u001b[0m\u001b[1;33m\u001b[0m\u001b[1;33m\u001b[0m\u001b[0m\n\u001b[0;32m    657\u001b[0m                 \u001b[1;32mreturn\u001b[0m \u001b[0mrecords\u001b[0m\u001b[1;33m\u001b[0m\u001b[1;33m\u001b[0m\u001b[0m\n",
      "\u001b[1;32m~\\anaconda3\\lib\\site-packages\\kafka\\consumer\\group.py\u001b[0m in \u001b[0;36m_poll_once\u001b[1;34m(self, timeout_ms, max_records, update_offsets)\u001b[0m\n\u001b[0;32m    700\u001b[0m \u001b[1;33m\u001b[0m\u001b[0m\n\u001b[0;32m    701\u001b[0m         \u001b[0mtimeout_ms\u001b[0m \u001b[1;33m=\u001b[0m \u001b[0mmin\u001b[0m\u001b[1;33m(\u001b[0m\u001b[0mtimeout_ms\u001b[0m\u001b[1;33m,\u001b[0m \u001b[0mself\u001b[0m\u001b[1;33m.\u001b[0m\u001b[0m_coordinator\u001b[0m\u001b[1;33m.\u001b[0m\u001b[0mtime_to_next_poll\u001b[0m\u001b[1;33m(\u001b[0m\u001b[1;33m)\u001b[0m \u001b[1;33m*\u001b[0m \u001b[1;36m1000\u001b[0m\u001b[1;33m)\u001b[0m\u001b[1;33m\u001b[0m\u001b[1;33m\u001b[0m\u001b[0m\n\u001b[1;32m--> 702\u001b[1;33m         \u001b[0mself\u001b[0m\u001b[1;33m.\u001b[0m\u001b[0m_client\u001b[0m\u001b[1;33m.\u001b[0m\u001b[0mpoll\u001b[0m\u001b[1;33m(\u001b[0m\u001b[0mtimeout_ms\u001b[0m\u001b[1;33m=\u001b[0m\u001b[0mtimeout_ms\u001b[0m\u001b[1;33m)\u001b[0m\u001b[1;33m\u001b[0m\u001b[1;33m\u001b[0m\u001b[0m\n\u001b[0m\u001b[0;32m    703\u001b[0m         \u001b[1;31m# after the long poll, we should check whether the group needs to rebalance\u001b[0m\u001b[1;33m\u001b[0m\u001b[1;33m\u001b[0m\u001b[1;33m\u001b[0m\u001b[0m\n\u001b[0;32m    704\u001b[0m         \u001b[1;31m# prior to returning data so that the group can stabilize faster\u001b[0m\u001b[1;33m\u001b[0m\u001b[1;33m\u001b[0m\u001b[1;33m\u001b[0m\u001b[0m\n",
      "\u001b[1;32m~\\anaconda3\\lib\\site-packages\\kafka\\client_async.py\u001b[0m in \u001b[0;36mpoll\u001b[1;34m(self, timeout_ms, future)\u001b[0m\n\u001b[0;32m    600\u001b[0m                     \u001b[0mtimeout\u001b[0m \u001b[1;33m=\u001b[0m \u001b[0mmax\u001b[0m\u001b[1;33m(\u001b[0m\u001b[1;36m0\u001b[0m\u001b[1;33m,\u001b[0m \u001b[0mtimeout\u001b[0m\u001b[1;33m)\u001b[0m  \u001b[1;31m# avoid negative timeouts\u001b[0m\u001b[1;33m\u001b[0m\u001b[1;33m\u001b[0m\u001b[0m\n\u001b[0;32m    601\u001b[0m \u001b[1;33m\u001b[0m\u001b[0m\n\u001b[1;32m--> 602\u001b[1;33m                 \u001b[0mself\u001b[0m\u001b[1;33m.\u001b[0m\u001b[0m_poll\u001b[0m\u001b[1;33m(\u001b[0m\u001b[0mtimeout\u001b[0m \u001b[1;33m/\u001b[0m \u001b[1;36m1000\u001b[0m\u001b[1;33m)\u001b[0m\u001b[1;33m\u001b[0m\u001b[1;33m\u001b[0m\u001b[0m\n\u001b[0m\u001b[0;32m    603\u001b[0m \u001b[1;33m\u001b[0m\u001b[0m\n\u001b[0;32m    604\u001b[0m             \u001b[1;31m# called without the lock to avoid deadlock potential\u001b[0m\u001b[1;33m\u001b[0m\u001b[1;33m\u001b[0m\u001b[1;33m\u001b[0m\u001b[0m\n",
      "\u001b[1;32m~\\anaconda3\\lib\\site-packages\\kafka\\client_async.py\u001b[0m in \u001b[0;36m_poll\u001b[1;34m(self, timeout)\u001b[0m\n\u001b[0;32m    632\u001b[0m \u001b[1;33m\u001b[0m\u001b[0m\n\u001b[0;32m    633\u001b[0m         \u001b[0mstart_select\u001b[0m \u001b[1;33m=\u001b[0m \u001b[0mtime\u001b[0m\u001b[1;33m.\u001b[0m\u001b[0mtime\u001b[0m\u001b[1;33m(\u001b[0m\u001b[1;33m)\u001b[0m\u001b[1;33m\u001b[0m\u001b[1;33m\u001b[0m\u001b[0m\n\u001b[1;32m--> 634\u001b[1;33m         \u001b[0mready\u001b[0m \u001b[1;33m=\u001b[0m \u001b[0mself\u001b[0m\u001b[1;33m.\u001b[0m\u001b[0m_selector\u001b[0m\u001b[1;33m.\u001b[0m\u001b[0mselect\u001b[0m\u001b[1;33m(\u001b[0m\u001b[0mtimeout\u001b[0m\u001b[1;33m)\u001b[0m\u001b[1;33m\u001b[0m\u001b[1;33m\u001b[0m\u001b[0m\n\u001b[0m\u001b[0;32m    635\u001b[0m         \u001b[0mend_select\u001b[0m \u001b[1;33m=\u001b[0m \u001b[0mtime\u001b[0m\u001b[1;33m.\u001b[0m\u001b[0mtime\u001b[0m\u001b[1;33m(\u001b[0m\u001b[1;33m)\u001b[0m\u001b[1;33m\u001b[0m\u001b[1;33m\u001b[0m\u001b[0m\n\u001b[0;32m    636\u001b[0m         \u001b[1;32mif\u001b[0m \u001b[0mself\u001b[0m\u001b[1;33m.\u001b[0m\u001b[0m_sensors\u001b[0m\u001b[1;33m:\u001b[0m\u001b[1;33m\u001b[0m\u001b[1;33m\u001b[0m\u001b[0m\n",
      "\u001b[1;32m~\\anaconda3\\lib\\selectors.py\u001b[0m in \u001b[0;36mselect\u001b[1;34m(self, timeout)\u001b[0m\n\u001b[0;32m    321\u001b[0m         \u001b[0mready\u001b[0m \u001b[1;33m=\u001b[0m \u001b[1;33m[\u001b[0m\u001b[1;33m]\u001b[0m\u001b[1;33m\u001b[0m\u001b[1;33m\u001b[0m\u001b[0m\n\u001b[0;32m    322\u001b[0m         \u001b[1;32mtry\u001b[0m\u001b[1;33m:\u001b[0m\u001b[1;33m\u001b[0m\u001b[1;33m\u001b[0m\u001b[0m\n\u001b[1;32m--> 323\u001b[1;33m             \u001b[0mr\u001b[0m\u001b[1;33m,\u001b[0m \u001b[0mw\u001b[0m\u001b[1;33m,\u001b[0m \u001b[0m_\u001b[0m \u001b[1;33m=\u001b[0m \u001b[0mself\u001b[0m\u001b[1;33m.\u001b[0m\u001b[0m_select\u001b[0m\u001b[1;33m(\u001b[0m\u001b[0mself\u001b[0m\u001b[1;33m.\u001b[0m\u001b[0m_readers\u001b[0m\u001b[1;33m,\u001b[0m \u001b[0mself\u001b[0m\u001b[1;33m.\u001b[0m\u001b[0m_writers\u001b[0m\u001b[1;33m,\u001b[0m \u001b[1;33m[\u001b[0m\u001b[1;33m]\u001b[0m\u001b[1;33m,\u001b[0m \u001b[0mtimeout\u001b[0m\u001b[1;33m)\u001b[0m\u001b[1;33m\u001b[0m\u001b[1;33m\u001b[0m\u001b[0m\n\u001b[0m\u001b[0;32m    324\u001b[0m         \u001b[1;32mexcept\u001b[0m \u001b[0mInterruptedError\u001b[0m\u001b[1;33m:\u001b[0m\u001b[1;33m\u001b[0m\u001b[1;33m\u001b[0m\u001b[0m\n\u001b[0;32m    325\u001b[0m             \u001b[1;32mreturn\u001b[0m \u001b[0mready\u001b[0m\u001b[1;33m\u001b[0m\u001b[1;33m\u001b[0m\u001b[0m\n",
      "\u001b[1;32m~\\anaconda3\\lib\\selectors.py\u001b[0m in \u001b[0;36m_select\u001b[1;34m(self, r, w, _, timeout)\u001b[0m\n\u001b[0;32m    312\u001b[0m     \u001b[1;32mif\u001b[0m \u001b[0msys\u001b[0m\u001b[1;33m.\u001b[0m\u001b[0mplatform\u001b[0m \u001b[1;33m==\u001b[0m \u001b[1;34m'win32'\u001b[0m\u001b[1;33m:\u001b[0m\u001b[1;33m\u001b[0m\u001b[1;33m\u001b[0m\u001b[0m\n\u001b[0;32m    313\u001b[0m         \u001b[1;32mdef\u001b[0m \u001b[0m_select\u001b[0m\u001b[1;33m(\u001b[0m\u001b[0mself\u001b[0m\u001b[1;33m,\u001b[0m \u001b[0mr\u001b[0m\u001b[1;33m,\u001b[0m \u001b[0mw\u001b[0m\u001b[1;33m,\u001b[0m \u001b[0m_\u001b[0m\u001b[1;33m,\u001b[0m \u001b[0mtimeout\u001b[0m\u001b[1;33m=\u001b[0m\u001b[1;32mNone\u001b[0m\u001b[1;33m)\u001b[0m\u001b[1;33m:\u001b[0m\u001b[1;33m\u001b[0m\u001b[1;33m\u001b[0m\u001b[0m\n\u001b[1;32m--> 314\u001b[1;33m             \u001b[0mr\u001b[0m\u001b[1;33m,\u001b[0m \u001b[0mw\u001b[0m\u001b[1;33m,\u001b[0m \u001b[0mx\u001b[0m \u001b[1;33m=\u001b[0m \u001b[0mselect\u001b[0m\u001b[1;33m.\u001b[0m\u001b[0mselect\u001b[0m\u001b[1;33m(\u001b[0m\u001b[0mr\u001b[0m\u001b[1;33m,\u001b[0m \u001b[0mw\u001b[0m\u001b[1;33m,\u001b[0m \u001b[0mw\u001b[0m\u001b[1;33m,\u001b[0m \u001b[0mtimeout\u001b[0m\u001b[1;33m)\u001b[0m\u001b[1;33m\u001b[0m\u001b[1;33m\u001b[0m\u001b[0m\n\u001b[0m\u001b[0;32m    315\u001b[0m             \u001b[1;32mreturn\u001b[0m \u001b[0mr\u001b[0m\u001b[1;33m,\u001b[0m \u001b[0mw\u001b[0m \u001b[1;33m+\u001b[0m \u001b[0mx\u001b[0m\u001b[1;33m,\u001b[0m \u001b[1;33m[\u001b[0m\u001b[1;33m]\u001b[0m\u001b[1;33m\u001b[0m\u001b[1;33m\u001b[0m\u001b[0m\n\u001b[0;32m    316\u001b[0m     \u001b[1;32melse\u001b[0m\u001b[1;33m:\u001b[0m\u001b[1;33m\u001b[0m\u001b[1;33m\u001b[0m\u001b[0m\n",
      "\u001b[1;31mKeyboardInterrupt\u001b[0m: "
     ]
    }
   ],
   "source": [
    "if __name__=='__main__':\n",
    "    consumer=KafkaConsumer(\n",
    "        topic_name,\n",
    "        bootstrap_servers=kafka_broker,\n",
    "        value_deserializer=lambda x: json.loads(x.decode('utf-8'))\n",
    "    )\n",
    "    \n",
    "#     collection_session=createCollectionMongo()\n",
    "    \n",
    "    atexit.register(on_shutdown,consumer)\n",
    "    for msg in consumer:\n",
    "        data=msg.value\n",
    "        data['_id']=f\"{data['StockSymbol']}_{data['Time']}\"\n",
    "        dump_data(msg.value)"
   ]
  },
  {
   "cell_type": "code",
   "execution_count": null,
   "metadata": {
    "id": "OEGhFkqvU5fI"
   },
   "outputs": [],
   "source": [
    "\n",
    "# consumer=KafkaConsumer(\n",
    "#     'stockTopic',\n",
    "#     bootstrap_servers=kafka_broker,\n",
    "#     value_deserializer=lambda x: json.loads(x.decode('utf-8'))\n",
    "# )\n",
    "\n",
    "# #     collection_session=createCollectionMongo()\n",
    "\n",
    "# atexit.register(on_shutdown,consumer)\n",
    "# for msg in consumer:\n",
    "#     print('Test')\n",
    "#     data=msg.value\n",
    "#     data['_id']=f\"{data['StockSymbol']}_{data['Time']}\"\n",
    "#     dump_data(msg.value)"
   ]
  },
  {
   "cell_type": "code",
   "execution_count": null,
   "metadata": {},
   "outputs": [],
   "source": []
  }
 ],
 "metadata": {
  "colab": {
   "name": "GetStockPrice",
   "provenance": []
  },
  "kernelspec": {
   "display_name": "Python 3",
   "language": "python",
   "name": "python3"
  },
  "language_info": {
   "codemirror_mode": {
    "name": "ipython",
    "version": 3
   },
   "file_extension": ".py",
   "mimetype": "text/x-python",
   "name": "python",
   "nbconvert_exporter": "python",
   "pygments_lexer": "ipython3",
   "version": "3.8.8"
  }
 },
 "nbformat": 4,
 "nbformat_minor": 1
}
