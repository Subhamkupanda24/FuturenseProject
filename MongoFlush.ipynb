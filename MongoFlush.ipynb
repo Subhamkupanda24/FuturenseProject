{
 "cells": [
  {
   "cell_type": "code",
   "execution_count": null,
   "metadata": {
    "id": "9WAYjfHfIGCd"
   },
   "outputs": [],
   "source": [
    "from kafka import KafkaConsumer\n",
    "from kafka.errors import KafkaError, KafkaTimeoutError\n",
    "import atexit\n",
    "import logging\n",
    "import json\n",
    "from pymongo import MongoClient\n",
    "import pprint"
   ]
  },
  {
   "cell_type": "code",
   "execution_count": null,
   "metadata": {
    "id": "IoDEwgTZIpVi"
   },
   "outputs": [],
   "source": [
    "logger_format = '%(asctime)-15s %(message)s'\n",
    "logging.basicConfig(format=logger_format)\n",
    "logger = logging.getLogger('test')\n",
    "logger.setLevel(logging.DEBUG)"
   ]
  },
  {
   "cell_type": "code",
   "execution_count": null,
   "metadata": {},
   "outputs": [],
   "source": [
    "topic_name = 'transformedStockTopic'\n",
    "# topic_name = 'stockTopic'\n",
    "kafka_broker = '127.0.0.1:9092'\n",
    "mongo_client='localhost:27017'\n",
    "db_name='stock_test_final'\n",
    "collection_name='stock_price_test_final'"
   ]
  },
  {
   "cell_type": "code",
   "execution_count": null,
   "metadata": {
    "id": "_mcBOwvVRDZm"
   },
   "outputs": [],
   "source": [
    "def dump_data(stock_data,collection):\n",
    "  '''\n",
    "  function to store data in MongoDB from Kafka\n",
    "  :param data: stock data json\n",
    "  :param collection: mongo collection session\n",
    "  :return: None\n",
    "  '''\n",
    "\n",
    "  try:\n",
    "    logger.info(f'Dumping data in MongoDB {json.dumps(stock_data)}')\n",
    "    collection.insert_one(stock_data)\n",
    "    logger.info(f'Data dumped in MongoDB {json.dumps(stock_data)}')\n",
    "  except KafkaError as ke:\n",
    "    logger.warning(f'Kafka Error {ke}')\n",
    "  except Exception as e:\n",
    "    logger.warning(f'Failed to dump data {stock_data} due to {e}')"
   ]
  },
  {
   "cell_type": "code",
   "execution_count": null,
   "metadata": {
    "id": "A0JH7wDYRJlZ"
   },
   "outputs": [],
   "source": [
    "def on_shutdown(consumer,mongo_session):\n",
    "  '''\n",
    "  shutdown hook to be called before the shutdown\n",
    "  :param consumer: instance of a kafka consumer\n",
    "  :return: None\n",
    "  '''\n",
    "  try:\n",
    "    logger.info('Closing Kafka Consumer')\n",
    "    consumer.close()\n",
    "    logger.info('Kafka Consumer Close')\n",
    "  except KafkaError as ke:\n",
    "    logger.warning(f'Failed to close Kafka Consumer, due to {ke}')\n",
    "  finally:\n",
    "      logger.info(\"Consumer Session closed\")"
   ]
  },
  {
   "cell_type": "code",
   "execution_count": null,
   "metadata": {},
   "outputs": [],
   "source": [
    "def createCollectionMongo():\n",
    "    '''\n",
    "    function to create mongo session which will be used to write data\n",
    "    to mongo client\n",
    "    :return: none\n",
    "    '''\n",
    "    client = MongoClient(mongo_client)\n",
    "    db = client[db_name]\n",
    "    collection = db[collection_name]\n",
    "    collection.create_index('StockSymbol', name=\"stock_symbol_index\")\n",
    "    return collection"
   ]
  },
  {
   "cell_type": "code",
   "execution_count": null,
   "metadata": {
    "id": "kD3l94i5UAYV"
   },
   "outputs": [],
   "source": [
    "if __name__=='__main__':\n",
    "    consumer=KafkaConsumer(\n",
    "        topic_name,\n",
    "        bootstrap_servers=kafka_broker,\n",
    "        value_deserializer=lambda x: json.loads(x.decode('utf-8')),\n",
    "        auto_offset_reset='latest',\n",
    "        group_id='my-group'\n",
    "    )\n",
    "    \n",
    "    collection_session=createCollectionMongo()\n",
    "    \n",
    "    atexit.register(on_shutdown,consumer)\n",
    "    for msg in consumer:\n",
    "        data=msg.value\n",
    "        data['_id']=f\"{data['StockSymbol']}_{data['end']}\"\n",
    "        dump_data(data,collection_session)"
   ]
  },
  {
   "cell_type": "code",
   "execution_count": null,
   "metadata": {},
   "outputs": [],
   "source": []
  }
 ],
 "metadata": {
  "colab": {
   "name": "GetStockPrice",
   "provenance": []
  },
  "kernelspec": {
   "display_name": "Python 3",
   "language": "python",
   "name": "python3"
  },
  "language_info": {
   "codemirror_mode": {
    "name": "ipython",
    "version": 3
   },
   "file_extension": ".py",
   "mimetype": "text/x-python",
   "name": "python",
   "nbconvert_exporter": "python",
   "pygments_lexer": "ipython3",
   "version": "3.8.8"
  }
 },
 "nbformat": 4,
 "nbformat_minor": 1
}
