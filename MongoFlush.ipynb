{
 "cells": [
  {
   "cell_type": "code",
   "execution_count": 1,
   "metadata": {
    "id": "9WAYjfHfIGCd"
   },
   "outputs": [],
   "source": [
    "from kafka import KafkaProducer\n",
    "from kafka.errors import KafkaError, KafkaTimeoutError\n",
    "import atexit\n",
    "import logging\n",
    "import json\n",
    "from pymongo import MongoClient"
   ]
  },
  {
   "cell_type": "code",
   "execution_count": 2,
   "metadata": {
    "id": "IoDEwgTZIpVi"
   },
   "outputs": [],
   "source": [
    "logger_format = '%(asctime)-15s %(message)s'\n",
    "logging.basicConfig(format=logger_format)\n",
    "logger = logging.getLogger('test')\n",
    "logger.setLevel(logging.DEBUG)"
   ]
  },
  {
   "cell_type": "code",
   "execution_count": 5,
   "metadata": {},
   "outputs": [],
   "source": [
    "topic_name = 'stockTopic'\n",
    "kafka_broker = '127.0.0.1:9092'\n",
    "mongo_client='localhost:27017'\n",
    "db_name='stock_test'\n",
    "collection_name='stock_price_test'"
   ]
  },
  {
   "cell_type": "code",
   "execution_count": 6,
   "metadata": {
    "id": "_mcBOwvVRDZm"
   },
   "outputs": [],
   "source": [
    "def dump_data(stock_data,collection):\n",
    "  '''\n",
    "  function to store data in MongoDB from Kafka\n",
    "  :param data: stock data json\n",
    "  :param collection: mongo collection session\n",
    "  :return: None\n",
    "  '''\n",
    "\n",
    "  try:\n",
    "    logger.info(f'Dumping data in MongoDB {json.dumps(stock_data)}')\n",
    "    collection.insert_one(stock_data)\n",
    "    logger.info(f'Data dumped in MongoDB {json.dumps(stock_data)}')\n",
    "  except KafkaError as ke:\n",
    "    logger.warning(f'Kafka Error {ke}')\n",
    "  except Exception as e:\n",
    "    logger.warning(f'Failed to fetch stock price of {symbol} caused by {e}')"
   ]
  },
  {
   "cell_type": "code",
   "execution_count": 1,
   "metadata": {
    "id": "A0JH7wDYRJlZ"
   },
   "outputs": [],
   "source": [
    "def on_shutdown(consumer,mongo_session):\n",
    "  '''\n",
    "  shutdown hook to be called before the shutdown\n",
    "  :param consumer: instance of a kafka consumer\n",
    "  :return: None\n",
    "  '''\n",
    "  try:\n",
    "    logger.info('Closing Kafka Consumer')\n",
    "    consumer.close()\n",
    "    logger.info('Kafka Consumer Close')\n",
    "  except KafkaError as ke:\n",
    "    logger.warning(f'Failed to close Kafka Consumer, due to {ke}')\n",
    "  finally:\n",
    "      logger.info(\"Consumer Session closed\")"
   ]
  },
  {
   "cell_type": "code",
   "execution_count": null,
   "metadata": {},
   "outputs": [],
   "source": [
    "def createCollectionMongo():\n",
    "    '''\n",
    "    function to create mongo session which will be used to write data\n",
    "    to mongo client\n",
    "    :return: none\n",
    "    '''\n",
    "    client = MongoClient(mongo_client)\n",
    "    db = client[db_name]\n",
    "    collection = client[collection_name]\n",
    "    collection.create_index('StockSymbol', name=\"stock_symbol_index\")\n",
    "    return collection"
   ]
  },
  {
   "cell_type": "code",
   "execution_count": 8,
   "metadata": {
    "id": "kD3l94i5UAYV"
   },
   "outputs": [
    {
     "name": "stderr",
     "output_type": "stream",
     "text": [
      "2021-11-25 19:28:00,395 Fetching stock price of GC=F\n",
      "2021-11-25 19:28:06,293 Received stock price of GC=F at 2021-11-25T19:28:06Z : 1792.4\n",
      "2021-11-25 19:28:07,299 Fetching stock price of GC=F\n",
      "2021-11-25 19:28:12,400 Received stock price of GC=F at 2021-11-25T19:28:12Z : 1792.4\n",
      "2021-11-25 19:28:13,410 Fetching stock price of GC=F\n",
      "2021-11-25 19:28:19,542 Received stock price of GC=F at 2021-11-25T19:28:19Z : 1792.4\n",
      "2021-11-25 19:28:20,556 Fetching stock price of GC=F\n",
      "2021-11-25 19:28:25,798 Received stock price of GC=F at 2021-11-25T19:28:25Z : 1792.4\n",
      "2021-11-25 19:28:26,813 Fetching stock price of GC=F\n",
      "2021-11-25 19:28:32,296 Received stock price of GC=F at 2021-11-25T19:28:32Z : 1792.4\n",
      "2021-11-25 19:28:33,308 Fetching stock price of GC=F\n",
      "2021-11-25 19:28:38,709 Received stock price of GC=F at 2021-11-25T19:28:38Z : 1792.4\n",
      "2021-11-25 19:28:39,718 Fetching stock price of GC=F\n",
      "2021-11-25 19:28:44,888 Received stock price of GC=F at 2021-11-25T19:28:44Z : 1792.4\n",
      "2021-11-25 19:28:45,897 Fetching stock price of GC=F\n",
      "2021-11-25 19:28:51,277 Received stock price of GC=F at 2021-11-25T19:28:51Z : 1792.4\n",
      "2021-11-25 19:28:52,288 Fetching stock price of GC=F\n",
      "2021-11-25 19:28:58,369 Received stock price of GC=F at 2021-11-25T19:28:58Z : 1792.4\n",
      "2021-11-25 19:28:59,378 Fetching stock price of GC=F\n",
      "2021-11-25 19:29:05,502 Received stock price of GC=F at 2021-11-25T19:29:05Z : 1792.4\n",
      "2021-11-25 19:29:06,504 Fetching stock price of GC=F\n",
      "2021-11-25 19:29:12,024 Received stock price of GC=F at 2021-11-25T19:29:12Z : 1792.4\n",
      "2021-11-25 19:29:13,041 Fetching stock price of GC=F\n",
      "2021-11-25 19:29:18,417 Received stock price of GC=F at 2021-11-25T19:29:18Z : 1792.4\n",
      "2021-11-25 19:29:19,421 Fetching stock price of GC=F\n",
      "2021-11-25 19:29:25,540 Received stock price of GC=F at 2021-11-25T19:29:25Z : 1792.4\n",
      "2021-11-25 19:29:26,547 Fetching stock price of GC=F\n",
      "2021-11-25 19:29:31,821 Received stock price of GC=F at 2021-11-25T19:29:31Z : 1792.4\n",
      "2021-11-25 19:29:32,827 Fetching stock price of GC=F\n",
      "2021-11-25 19:29:37,664 Received stock price of GC=F at 2021-11-25T19:29:37Z : 1792.4\n",
      "2021-11-25 19:29:38,674 Fetching stock price of GC=F\n",
      "2021-11-25 19:29:44,138 Received stock price of GC=F at 2021-11-25T19:29:44Z : 1792.4\n",
      "2021-11-25 19:29:45,144 Fetching stock price of GC=F\n",
      "2021-11-25 19:29:51,420 Received stock price of GC=F at 2021-11-25T19:29:51Z : 1792.4\n",
      "2021-11-25 19:29:52,429 Fetching stock price of GC=F\n",
      "2021-11-25 19:29:57,934 Received stock price of GC=F at 2021-11-25T19:29:57Z : 1792.4\n",
      "2021-11-25 19:29:58,949 Fetching stock price of GC=F\n",
      "2021-11-25 19:30:05,089 Received stock price of GC=F at 2021-11-25T19:30:05Z : 1792.4\n",
      "2021-11-25 19:30:06,099 Fetching stock price of GC=F\n",
      "2021-11-25 19:30:12,423 Received stock price of GC=F at 2021-11-25T19:30:12Z : 1792.4\n",
      "2021-11-25 19:30:13,432 Fetching stock price of GC=F\n",
      "2021-11-25 19:30:18,952 Received stock price of GC=F at 2021-11-25T19:30:18Z : 1792.4\n"
     ]
    },
    {
     "ename": "KeyboardInterrupt",
     "evalue": "",
     "output_type": "error",
     "traceback": [
      "\u001b[1;31m---------------------------------------------------------------------------\u001b[0m",
      "\u001b[1;31mKeyboardInterrupt\u001b[0m                         Traceback (most recent call last)",
      "\u001b[1;32m<ipython-input-8-7766a640c39e>\u001b[0m in \u001b[0;36m<module>\u001b[1;34m\u001b[0m\n\u001b[0;32m      9\u001b[0m     \u001b[1;32mwhile\u001b[0m \u001b[1;32mTrue\u001b[0m\u001b[1;33m:\u001b[0m\u001b[1;33m\u001b[0m\u001b[1;33m\u001b[0m\u001b[0m\n\u001b[0;32m     10\u001b[0m         \u001b[0mschedule\u001b[0m\u001b[1;33m.\u001b[0m\u001b[0mrun_pending\u001b[0m\u001b[1;33m(\u001b[0m\u001b[1;33m)\u001b[0m\u001b[1;33m\u001b[0m\u001b[1;33m\u001b[0m\u001b[0m\n\u001b[1;32m---> 11\u001b[1;33m         \u001b[0mtime\u001b[0m\u001b[1;33m.\u001b[0m\u001b[0msleep\u001b[0m\u001b[1;33m(\u001b[0m\u001b[1;36m1\u001b[0m\u001b[1;33m)\u001b[0m\u001b[1;33m\u001b[0m\u001b[1;33m\u001b[0m\u001b[0m\n\u001b[0m",
      "\u001b[1;31mKeyboardInterrupt\u001b[0m: "
     ]
    }
   ],
   "source": [
    "if __name__=='__main__':\n",
    "    consumer=KafkaConsumer(\n",
    "        bootstrap_servers=kafka_broker,\n",
    "        value_deserializer=lambda x: json.loads(x).decode('utf-8')\n",
    "    )\n",
    "    \n",
    "    collection_session=createCollectionMongo()\n",
    "    \n",
    "    atexit.register(on_shutdown,consumer)\n",
    "    for msg in consumer:\n",
    "        data=msg.value\n",
    "        data['_id']=f\"{data['StockSymbol']}_{data['Time']}\"\n",
    "        dump_data(msg.value,collection_session)"
   ]
  },
  {
   "cell_type": "code",
   "execution_count": null,
   "metadata": {
    "id": "OEGhFkqvU5fI"
   },
   "outputs": [],
   "source": []
  }
 ],
 "metadata": {
  "colab": {
   "name": "GetStockPrice",
   "provenance": []
  },
  "kernelspec": {
   "display_name": "Python 3",
   "language": "python",
   "name": "python3"
  },
  "language_info": {
   "codemirror_mode": {
    "name": "ipython",
    "version": 3
   },
   "file_extension": ".py",
   "mimetype": "text/x-python",
   "name": "python",
   "nbconvert_exporter": "python",
   "pygments_lexer": "ipython3",
   "version": "3.8.8"
  }
 },
 "nbformat": 4,
 "nbformat_minor": 1
}
