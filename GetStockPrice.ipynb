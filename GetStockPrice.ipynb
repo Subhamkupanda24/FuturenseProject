{
 "cells": [
  {
   "cell_type": "code",
   "execution_count": 1,
   "metadata": {
    "id": "9WAYjfHfIGCd"
   },
   "outputs": [],
   "source": [
    "import yfinance as yf\n",
    "# import argparse\n",
    "import atexit\n",
    "import datetime\n",
    "import logging\n",
    "import schedule\n",
    "import time\n",
    "import json"
   ]
  },
  {
   "cell_type": "code",
   "execution_count": 2,
   "metadata": {
    "id": "IoDEwgTZIpVi"
   },
   "outputs": [],
   "source": [
    "logger_format = '%(asctime)-15s %(message)s'\n",
    "logging.basicConfig(format=logger_format)\n",
    "logger = logging.getLogger('test')\n",
    "logger.setLevel(logging.DEBUG)"
   ]
  },
  {
   "cell_type": "code",
   "execution_count": 3,
   "metadata": {
    "id": "FOJtlyM6Tn5o"
   },
   "outputs": [],
   "source": [
    "def log_exception(msg,exception):\n",
    "  logger.warning(f'{msg}, caused by, {exception}')"
   ]
  },
  {
   "cell_type": "code",
   "execution_count": 4,
   "metadata": {},
   "outputs": [],
   "source": [
    "from kafka import KafkaProducer\n",
    "from kafka.errors import KafkaError, KafkaTimeoutError"
   ]
  },
  {
   "cell_type": "code",
   "execution_count": 5,
   "metadata": {},
   "outputs": [],
   "source": [
    "topic_name = 'stockTopic'\n",
    "kafka_broker = '127.0.0.1:9092'"
   ]
  },
  {
   "cell_type": "code",
   "execution_count": 6,
   "metadata": {
    "id": "_mcBOwvVRDZm"
   },
   "outputs": [],
   "source": [
    "def fetch_symbol_price(symbol,producer):\n",
    "  '''\n",
    "  function to fetch price of the stock and push it to the producer instance\n",
    "  of kafka\n",
    "  :param symbol: symbol of the stock\n",
    "  :param producer: instance of the kafka producer\n",
    "  :return: None\n",
    "  '''\n",
    "\n",
    "  logger.info(f'Fetching stock price of {symbol}')\n",
    "  try:\n",
    "#     print(yf.Ticker(symbol).info)\n",
    "    price=yf.Ticker(symbol).info['ask']\n",
    "    timestamp=datetime.datetime.fromtimestamp(time.time()).strftime('%Y-%m-%dT%H:%M:%SZ')\n",
    "    payload={\n",
    "        'StockSymbol':symbol,\n",
    "        'Price':price,\n",
    "        'Time':timestamp\n",
    "    }\n",
    "    producer.send(topic=topic_name, value=payload)\n",
    "    logger.info(f'Received stock price of {symbol} at {timestamp} : {price}')\n",
    "  except KafkaError as ke:\n",
    "    logger.warning(f'Kafka Error {ke}')\n",
    "  except Exception as e:\n",
    "    logger.warning(f'Failed to fetch stock price of {symbol} caused by {e}')\n",
    "  return payload"
   ]
  },
  {
   "cell_type": "code",
   "execution_count": 7,
   "metadata": {
    "id": "A0JH7wDYRJlZ"
   },
   "outputs": [],
   "source": [
    "def on_shutdown(producer):\n",
    "  '''\n",
    "  shutdown hook to be called before the shutdown\n",
    "  :param producer: instance of a kafka producer\n",
    "  :return: None\n",
    "  '''\n",
    "  try:\n",
    "    logger.info('Flushing pending messages to kafka, timeout is set to 10s')\n",
    "    producer.flush(10) \n",
    "    logger.info('Finish flushing pending messages to kafka')\n",
    "  finally:\n",
    "      try:\n",
    "        logger.info('Closing the Kafka connection')\n",
    "        producer.close(10)\n",
    "      except Exception as e:\n",
    "        log_exception('Failed to close kafka connection',e)"
   ]
  },
  {
   "cell_type": "code",
   "execution_count": 8,
   "metadata": {
    "id": "kD3l94i5UAYV"
   },
   "outputs": [
    {
     "name": "stderr",
     "output_type": "stream",
     "text": [
      "2021-11-25 19:28:00,395 Fetching stock price of GC=F\n",
      "2021-11-25 19:28:06,293 Received stock price of GC=F at 2021-11-25T19:28:06Z : 1792.4\n",
      "2021-11-25 19:28:07,299 Fetching stock price of GC=F\n",
      "2021-11-25 19:28:12,400 Received stock price of GC=F at 2021-11-25T19:28:12Z : 1792.4\n",
      "2021-11-25 19:28:13,410 Fetching stock price of GC=F\n",
      "2021-11-25 19:28:19,542 Received stock price of GC=F at 2021-11-25T19:28:19Z : 1792.4\n",
      "2021-11-25 19:28:20,556 Fetching stock price of GC=F\n",
      "2021-11-25 19:28:25,798 Received stock price of GC=F at 2021-11-25T19:28:25Z : 1792.4\n",
      "2021-11-25 19:28:26,813 Fetching stock price of GC=F\n",
      "2021-11-25 19:28:32,296 Received stock price of GC=F at 2021-11-25T19:28:32Z : 1792.4\n",
      "2021-11-25 19:28:33,308 Fetching stock price of GC=F\n",
      "2021-11-25 19:28:38,709 Received stock price of GC=F at 2021-11-25T19:28:38Z : 1792.4\n",
      "2021-11-25 19:28:39,718 Fetching stock price of GC=F\n",
      "2021-11-25 19:28:44,888 Received stock price of GC=F at 2021-11-25T19:28:44Z : 1792.4\n",
      "2021-11-25 19:28:45,897 Fetching stock price of GC=F\n",
      "2021-11-25 19:28:51,277 Received stock price of GC=F at 2021-11-25T19:28:51Z : 1792.4\n",
      "2021-11-25 19:28:52,288 Fetching stock price of GC=F\n",
      "2021-11-25 19:28:58,369 Received stock price of GC=F at 2021-11-25T19:28:58Z : 1792.4\n",
      "2021-11-25 19:28:59,378 Fetching stock price of GC=F\n",
      "2021-11-25 19:29:05,502 Received stock price of GC=F at 2021-11-25T19:29:05Z : 1792.4\n",
      "2021-11-25 19:29:06,504 Fetching stock price of GC=F\n",
      "2021-11-25 19:29:12,024 Received stock price of GC=F at 2021-11-25T19:29:12Z : 1792.4\n",
      "2021-11-25 19:29:13,041 Fetching stock price of GC=F\n",
      "2021-11-25 19:29:18,417 Received stock price of GC=F at 2021-11-25T19:29:18Z : 1792.4\n",
      "2021-11-25 19:29:19,421 Fetching stock price of GC=F\n",
      "2021-11-25 19:29:25,540 Received stock price of GC=F at 2021-11-25T19:29:25Z : 1792.4\n",
      "2021-11-25 19:29:26,547 Fetching stock price of GC=F\n",
      "2021-11-25 19:29:31,821 Received stock price of GC=F at 2021-11-25T19:29:31Z : 1792.4\n",
      "2021-11-25 19:29:32,827 Fetching stock price of GC=F\n",
      "2021-11-25 19:29:37,664 Received stock price of GC=F at 2021-11-25T19:29:37Z : 1792.4\n",
      "2021-11-25 19:29:38,674 Fetching stock price of GC=F\n",
      "2021-11-25 19:29:44,138 Received stock price of GC=F at 2021-11-25T19:29:44Z : 1792.4\n",
      "2021-11-25 19:29:45,144 Fetching stock price of GC=F\n",
      "2021-11-25 19:29:51,420 Received stock price of GC=F at 2021-11-25T19:29:51Z : 1792.4\n",
      "2021-11-25 19:29:52,429 Fetching stock price of GC=F\n",
      "2021-11-25 19:29:57,934 Received stock price of GC=F at 2021-11-25T19:29:57Z : 1792.4\n",
      "2021-11-25 19:29:58,949 Fetching stock price of GC=F\n",
      "2021-11-25 19:30:05,089 Received stock price of GC=F at 2021-11-25T19:30:05Z : 1792.4\n",
      "2021-11-25 19:30:06,099 Fetching stock price of GC=F\n",
      "2021-11-25 19:30:12,423 Received stock price of GC=F at 2021-11-25T19:30:12Z : 1792.4\n",
      "2021-11-25 19:30:13,432 Fetching stock price of GC=F\n",
      "2021-11-25 19:30:18,952 Received stock price of GC=F at 2021-11-25T19:30:18Z : 1792.4\n"
     ]
    },
    {
     "ename": "KeyboardInterrupt",
     "evalue": "",
     "output_type": "error",
     "traceback": [
      "\u001b[1;31m---------------------------------------------------------------------------\u001b[0m",
      "\u001b[1;31mKeyboardInterrupt\u001b[0m                         Traceback (most recent call last)",
      "\u001b[1;32m<ipython-input-8-7766a640c39e>\u001b[0m in \u001b[0;36m<module>\u001b[1;34m\u001b[0m\n\u001b[0;32m      9\u001b[0m     \u001b[1;32mwhile\u001b[0m \u001b[1;32mTrue\u001b[0m\u001b[1;33m:\u001b[0m\u001b[1;33m\u001b[0m\u001b[1;33m\u001b[0m\u001b[0m\n\u001b[0;32m     10\u001b[0m         \u001b[0mschedule\u001b[0m\u001b[1;33m.\u001b[0m\u001b[0mrun_pending\u001b[0m\u001b[1;33m(\u001b[0m\u001b[1;33m)\u001b[0m\u001b[1;33m\u001b[0m\u001b[1;33m\u001b[0m\u001b[0m\n\u001b[1;32m---> 11\u001b[1;33m         \u001b[0mtime\u001b[0m\u001b[1;33m.\u001b[0m\u001b[0msleep\u001b[0m\u001b[1;33m(\u001b[0m\u001b[1;36m1\u001b[0m\u001b[1;33m)\u001b[0m\u001b[1;33m\u001b[0m\u001b[1;33m\u001b[0m\u001b[0m\n\u001b[0m",
      "\u001b[1;31mKeyboardInterrupt\u001b[0m: "
     ]
    }
   ],
   "source": [
    "if __name__=='__main__':\n",
    "    symbol='GC=F'\n",
    "    producer=KafkaProducer(\n",
    "        bootstrap_servers=kafka_broker,\n",
    "        value_serializer=lambda x: json.dumps(x).encode('utf-8')\n",
    "    )\n",
    "    schedule.every(1).second.do(fetch_symbol_price,symbol,producer)\n",
    "    atexit.register(on_shutdown,producer)\n",
    "    while True:\n",
    "        schedule.run_pending()\n",
    "        time.sleep(1)"
   ]
  },
  {
   "cell_type": "code",
   "execution_count": null,
   "metadata": {
    "id": "OEGhFkqvU5fI"
   },
   "outputs": [],
   "source": []
  }
 ],
 "metadata": {
  "colab": {
   "name": "GetStockPrice",
   "provenance": []
  },
  "kernelspec": {
   "display_name": "Python 3",
   "language": "python",
   "name": "python3"
  },
  "language_info": {
   "codemirror_mode": {
    "name": "ipython",
    "version": 3
   },
   "file_extension": ".py",
   "mimetype": "text/x-python",
   "name": "python",
   "nbconvert_exporter": "python",
   "pygments_lexer": "ipython3",
   "version": "3.8.8"
  }
 },
 "nbformat": 4,
 "nbformat_minor": 1
}
