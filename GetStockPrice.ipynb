{
 "cells": [
  {
   "cell_type": "code",
   "execution_count": null,
   "metadata": {
    "id": "9WAYjfHfIGCd"
   },
   "outputs": [],
   "source": [
    "import yfinance as yf\n",
    "# import argparse\n",
    "import atexit\n",
    "import datetime\n",
    "import logging\n",
    "import schedule\n",
    "import time\n",
    "import json"
   ]
  },
  {
   "cell_type": "code",
   "execution_count": null,
   "metadata": {
    "id": "IoDEwgTZIpVi"
   },
   "outputs": [],
   "source": [
    "logger_format = '%(asctime)-15s %(message)s'\n",
    "logging.basicConfig(format=logger_format)\n",
    "logger = logging.getLogger('test')\n",
    "logger.setLevel(logging.DEBUG)"
   ]
  },
  {
   "cell_type": "code",
   "execution_count": null,
   "metadata": {},
   "outputs": [],
   "source": [
    "from kafka import KafkaProducer\n",
    "from kafka.errors import KafkaError, KafkaTimeoutError"
   ]
  },
  {
   "cell_type": "code",
   "execution_count": null,
   "metadata": {},
   "outputs": [],
   "source": [
    "topic_name = 'stockTopic'\n",
    "kafka_broker = '127.0.0.1:9092'"
   ]
  },
  {
   "cell_type": "code",
   "execution_count": null,
   "metadata": {
    "id": "_mcBOwvVRDZm"
   },
   "outputs": [],
   "source": [
    "def fetch_symbol_price(symbol,producer):\n",
    "  '''\n",
    "  function to fetch price of the stock and push it to the producer instance\n",
    "  of kafka\n",
    "  :param symbol: symbol of the stock\n",
    "  :param producer: instance of the kafka producer\n",
    "  :return: None\n",
    "  '''\n",
    "\n",
    "  logger.info(f'Fetching stock price of {symbol}')\n",
    "  try:\n",
    "    try:\n",
    "        price=yf.Ticker(symbol).info['currentPrice']\n",
    "    except Exception as e:\n",
    "        price=yf.Ticker(symbol).info['regularMarketPrice']\n",
    "    timestamp=datetime.datetime.fromtimestamp(time.time()).strftime('%Y-%m-%dT%H:%M:%SZ')\n",
    "    payload={\n",
    "        'StockSymbol':symbol,\n",
    "        'Price':price,\n",
    "        'Time':timestamp\n",
    "    }\n",
    "    producer.send(topic=topic_name, value=payload)\n",
    "    logger.info(f'Received stock price of {symbol} at {timestamp} : {price}')\n",
    "  except KafkaError as ke:\n",
    "    logger.warning(f'Kafka Error {ke}')\n",
    "  except Exception as e:\n",
    "    logger.warning(f'Failed to fetch stock price of {symbol} caused by {e}')\n",
    "  return payload"
   ]
  },
  {
   "cell_type": "code",
   "execution_count": null,
   "metadata": {
    "id": "A0JH7wDYRJlZ"
   },
   "outputs": [],
   "source": [
    "def on_shutdown(producer):\n",
    "  '''\n",
    "  shutdown hook to be called before the shutdown\n",
    "  :param producer: instance of a kafka producer\n",
    "  :return: None\n",
    "  '''\n",
    "  try:\n",
    "    logger.info('Flushing pending messages to kafka, timeout is set to 10s')\n",
    "    producer.flush(10) \n",
    "    logger.info('Finish flushing pending messages to kafka')\n",
    "  finally:\n",
    "      try:\n",
    "        logger.info('Closing the Kafka connection')\n",
    "        producer.close(10)\n",
    "      except Exception as e:\n",
    "        log_exception('Failed to close kafka connection',e)"
   ]
  },
  {
   "cell_type": "code",
   "execution_count": null,
   "metadata": {
    "id": "kD3l94i5UAYV"
   },
   "outputs": [],
   "source": [
    "if __name__=='__main__':\n",
    "    symbol='GC=F'\n",
    "    producer=KafkaProducer(\n",
    "        bootstrap_servers=kafka_broker,\n",
    "        value_serializer=lambda x: json.dumps(x).encode('utf-8')\n",
    "    )\n",
    "    schedule.every(1).second.do(fetch_symbol_price,symbol,producer)\n",
    "    atexit.register(on_shutdown,producer)\n",
    "    while True:\n",
    "        schedule.run_pending()\n",
    "#         time.sleep(20)"
   ]
  },
  {
   "cell_type": "code",
   "execution_count": null,
   "metadata": {
    "id": "OEGhFkqvU5fI"
   },
   "outputs": [],
   "source": []
  }
 ],
 "metadata": {
  "colab": {
   "name": "GetStockPrice",
   "provenance": []
  },
  "kernelspec": {
   "display_name": "Python 3",
   "language": "python",
   "name": "python3"
  },
  "language_info": {
   "codemirror_mode": {
    "name": "ipython",
    "version": 3
   },
   "file_extension": ".py",
   "mimetype": "text/x-python",
   "name": "python",
   "nbconvert_exporter": "python",
   "pygments_lexer": "ipython3",
   "version": "3.8.8"
  }
 },
 "nbformat": 4,
 "nbformat_minor": 1
}
