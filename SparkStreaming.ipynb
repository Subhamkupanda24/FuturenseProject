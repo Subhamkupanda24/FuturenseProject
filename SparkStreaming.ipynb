{
 "cells": [
  {
   "cell_type": "code",
   "execution_count": 1,
   "id": "11987ade",
   "metadata": {},
   "outputs": [],
   "source": [
    "import atexit\n",
    "import logging\n",
    "import json\n",
    "import sys\n",
    "import time"
   ]
  },
  {
   "cell_type": "code",
   "execution_count": 4,
   "id": "63b7c2b7",
   "metadata": {
    "scrolled": true
   },
   "outputs": [],
   "source": [
    "from kafka import KafkaProducer\n",
    "from kafka.errors import KafkaError, KafkaTimeoutError\n",
    "from pyspark import SparkContext\n",
    "from pyspark.sql.functions import *\n",
    "from pyspark.streaming import StreamingContext"
   ]
  },
  {
   "cell_type": "code",
   "execution_count": 5,
   "id": "b36e670d",
   "metadata": {},
   "outputs": [],
   "source": [
    "logger_format = '%(asctime)-15s %(message)s'\n",
    "logging.basicConfig(format=logger_format)\n",
    "logger = logging.getLogger('stream-processing')\n",
    "logger.setLevel(logging.INFO)"
   ]
  },
  {
   "cell_type": "code",
   "execution_count": 6,
   "id": "833add13",
   "metadata": {},
   "outputs": [],
   "source": [
    "topic = 'stockTopic'\n",
    "target_topic = \"transformedStockTopic\"\n",
    "brokers = '127.0.0.1:9092'"
   ]
  },
  {
   "cell_type": "code",
   "execution_count": 7,
   "id": "80a55c7a",
   "metadata": {},
   "outputs": [],
   "source": [
    "def on_shutdown(producer=\"\"):\n",
    "  '''\n",
    "  shutdown hook to be called before the shutdown\n",
    "  :param producer: instance of a kafka producer\n",
    "  :return: None\n",
    "  '''\n",
    "  try:\n",
    "    logger.info('Flushing pending messages to kafka, timeout is set to 10s')\n",
    "    # producer.flush(10) \n",
    "    logger.info('Finish flushing pending messages to kafka')\n",
    "  finally:\n",
    "      try:\n",
    "        logger.info('Closing the Kafka connection')\n",
    "        # producer.close(10)\n",
    "      except Exception as e:\n",
    "        log_exception('Failed to close kafka connection',e)"
   ]
  },
  {
   "cell_type": "code",
   "execution_count": 8,
   "id": "dadbe12a",
   "metadata": {},
   "outputs": [
    {
     "ename": "IndentationError",
     "evalue": "unexpected indent (<ipython-input-8-752552aa17c6>, line 14)",
     "output_type": "error",
     "traceback": [
      "\u001b[1;36m  File \u001b[1;32m\"<ipython-input-8-752552aa17c6>\"\u001b[1;36m, line \u001b[1;32m14\u001b[0m\n\u001b[1;33m    logger.info('Sending average price %s to kafka' % data)\u001b[0m\n\u001b[1;37m    ^\u001b[0m\n\u001b[1;31mIndentationError\u001b[0m\u001b[1;31m:\u001b[0m unexpected indent\n"
     ]
    }
   ],
   "source": [
    "def process_stream(stream):\n",
    "\n",
    "    def send_to_kafka(rdd):\n",
    "        results = rdd.collect()\n",
    "        for r in results:\n",
    "            data = json.dumps(\n",
    "                {\n",
    "                    'symbol': r[0],\n",
    "                    'timestamp': time.time(),\n",
    "                    'average': r[1]\n",
    "                }\n",
    "            )\n",
    "            try:\"\"\n",
    "                logger.info('Sending average price %s to kafka' % data)\n",
    "                kafka_producer.send(target_topic, value=data)\n",
    "            except KafkaError as error:\n",
    "                logger.warn('Failed to send average stock price to kafka, caused by: %s', error.message)\n",
    "\n",
    "    def pair(data):\n",
    "        record = json.loads(data[1].decode('utf-8'))[0]\n",
    "        return record.get('StockSymbol'), (float(record.get('LastTradePrice')), 1)\n",
    "\n",
    "    stream.map(pair).reduceByKey(lambda a, b: (a[0] + b[0], a[1] + b[1])).map(lambda (k, v): (k, v[0]/v[1])).foreachRDD(send_to_kafka)"
   ]
  },
  {
   "cell_type": "code",
   "execution_count": null,
   "id": "912805e6",
   "metadata": {},
   "outputs": [],
   "source": []
  }
 ],
 "metadata": {
  "kernelspec": {
   "display_name": "Python 3",
   "language": "python",
   "name": "python3"
  },
  "language_info": {
   "codemirror_mode": {
    "name": "ipython",
    "version": 3
   },
   "file_extension": ".py",
   "mimetype": "text/x-python",
   "name": "python",
   "nbconvert_exporter": "python",
   "pygments_lexer": "ipython3",
   "version": "3.8.8"
  }
 },
 "nbformat": 4,
 "nbformat_minor": 5
}
