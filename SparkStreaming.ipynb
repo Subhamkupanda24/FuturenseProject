{
 "cells": [
  {
   "cell_type": "code",
   "execution_count": null,
   "id": "11987ade",
   "metadata": {},
   "outputs": [],
   "source": [
    "import atexit\n",
    "import logging\n",
    "import json\n",
    "import time\n",
    "from kafka import KafkaProducer\n",
    "from kafka.errors import KafkaError, KafkaTimeoutError\n",
    "from pyspark.sql import SparkSession\n",
    "from pyspark.sql.functions import *\n",
    "from pyspark.sql.types import *\n",
    "import time\n",
    "import os\n",
    "from datetime import datetime\n",
    "import findspark\n",
    "findspark.init()"
   ]
  },
  {
   "cell_type": "code",
   "execution_count": null,
   "id": "b36e670d",
   "metadata": {},
   "outputs": [],
   "source": [
    "logger_format = '%(asctime)-15s %(message)s'\n",
    "logging.basicConfig(format=logger_format)\n",
    "logger = logging.getLogger('stream-processing')\n",
    "logger.setLevel(logging.INFO)"
   ]
  },
  {
   "cell_type": "code",
   "execution_count": null,
   "id": "833add13",
   "metadata": {},
   "outputs": [],
   "source": [
    "topic = 'stockTopic'\n",
    "target_topic = \"transformedStockTopic\"\n",
    "brokers = '127.0.0.1:9092'"
   ]
  },
  {
   "cell_type": "code",
   "execution_count": null,
   "id": "80a55c7a",
   "metadata": {},
   "outputs": [],
   "source": [
    "def on_shutdown(spark):\n",
    "  '''\n",
    "  shutdown hook to be called before the shutdown\n",
    "  :param spark: spark streaming instance\n",
    "  :return: None\n",
    "  '''\n",
    "  try:\n",
    "      logger.info(\"Stopping Spark Streaming Application\")\n",
    "      spark.stop(true, true)\n",
    "      logger.info(\"Application stopped\")\n",
    "  except KafkaError as ke:\n",
    "        logger.warnng(f'Failed to flush pending messages to kafka, due to {ke}')"
   ]
  },
  {
   "cell_type": "code",
   "execution_count": null,
   "id": "dadbe12a",
   "metadata": {},
   "outputs": [],
   "source": [
    "def process_stream(pyspark_stream):\n",
    "\n",
    "    time_udf=udf(lambda x:datetime.strptime(x, '%Y-%m-%dT%H:%M:%SZ'),TimestampType())\n",
    "    \n",
    "    pyspark_stream=pyspark_stream.withColumn('timestamp',time_udf(pyspark_stream.Time))\n",
    "    \n",
    "    aggregate_stream=pyspark_stream.withWatermark(\"timestamp\", \"20 seconds\")\\\n",
    "                    .groupby(window(\"timestamp\",\"10 seconds\",\"5 seconds\"), \"StockSymbol\")\\\n",
    "                    .agg(avg(\"Price\").alias(\"Price\"), min(\"Price\").alias(\"minPrice\"), max(\"Price\").alias(\"maxPrice\"), count(\"Price\").alias(\"count\"))\\\n",
    "                    .select(\"window.start\", \"window.end\", \"StockSymbol\", \"Price\", \"minPrice\", \"maxPrice\", \"count\")\n",
    "    \n",
    "    aggregate_stream.writeStream.queryName('KafkaAggregate').outputMode(\"append\").option(\"truncate\", False).format(\"console\").start()\n",
    "    \n",
    "    writeToKafka = aggregate_stream.selectExpr(\"CAST(StockSymbol AS STRING) AS key\", \"to_json(struct(*)) AS value\")\\\n",
    "      .writeStream.format(\"kafka\").option(\"kafka.bootstrap.servers\",brokers).option(\"topic\", target_topic)\\\n",
    "      .option(\"startingOffsets\", \"earliest\").option(\"endingOffsets\", \"latest\")\\\n",
    "      .option(\"checkpointLocation\", \"/tmp/sparkcheckpoint/\").queryName(\"aggregate_kafka_streaming\")\\\n",
    "      .outputMode(\"append\").start()"
   ]
  },
  {
   "cell_type": "code",
   "execution_count": null,
   "id": "912805e6",
   "metadata": {},
   "outputs": [],
   "source": [
    "if __name__ == '__main__':\n",
    "\n",
    "    spark=SparkSession.builder.appName('test').config('spark.jars.packages', 'org.apache.spark:spark-sql-kafka-0-10_2.12:3.1.2').getOrCreate()\n",
    "    \n",
    "    spark.sparkContext.setLogLevel(\"ERROR\")\n",
    "    \n",
    "    schema = StructType().add(\"StockSymbol\", StringType()).add(\"Price\", DoubleType()).add(\"Time\",StringType())\n",
    "    \n",
    "    stock_stream=spark.readStream.format(\"kafka\")\\\n",
    "        .option(\"kafka.bootstrap.servers\",brokers).option(\"subscribe\",topic)\\\n",
    "        .option(\"startingOffsets\", \"latest\").load()\\\n",
    "        .select(from_json(col(\"value\").cast(\"string\"), schema).alias(\"parsed_value\")).select(col(\"parsed_value.*\"))\n",
    "    \n",
    "    process_stream(stock_stream)\n",
    "    # - setup proper shutdown hook\n",
    "    atexit.register(on_shutdown, spark)\n",
    "\n",
    "    spark.streams.awaitAnyTermination() "
   ]
  }
 ],
 "metadata": {
  "kernelspec": {
   "display_name": "Python 3",
   "language": "python",
   "name": "python3"
  },
  "language_info": {
   "codemirror_mode": {
    "name": "ipython",
    "version": 3
   },
   "file_extension": ".py",
   "mimetype": "text/x-python",
   "name": "python",
   "nbconvert_exporter": "python",
   "pygments_lexer": "ipython3",
   "version": "3.8.8"
  }
 },
 "nbformat": 4,
 "nbformat_minor": 5
}
